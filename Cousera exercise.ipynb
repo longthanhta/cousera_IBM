{
    "cells": [
        {
            "cell_type": "markdown",
            "metadata": {},
            "source": "<h1> My Jupyter Notebook on IBM Watson Studio </h1>"
        },
        {
            "cell_type": "markdown",
            "metadata": {},
            "source": "__Long Thanh Ta__ <br>\nCurrent: Postgraduate student <br>\nDesired: Finding Job <br>\n"
        },
        {
            "cell_type": "markdown",
            "metadata": {},
            "source": "_I am interested in data science because I want to work with big data and use state-of-the-art Machine Learning model._"
        },
        {
            "cell_type": "markdown",
            "metadata": {},
            "source": "<h3> My code gonna print the sum of three numbers: 1,2 and 3 </h3>"
        },
        {
            "cell_type": "code",
            "execution_count": 6,
            "metadata": {},
            "outputs": [
                {
                    "name": "stdout",
                    "output_type": "stream",
                    "text": "6\n"
                }
            ],
            "source": "print(1+2+3)"
        },
        {
            "cell_type": "markdown",
            "metadata": {},
            "source": "- This is a very simple code\n- It run on cloud service\n- <s>It run on my PC<s> \n- This note book can be accessed via this link: https://eu-de.dataplatform.cloud.ibm.com/analytics/notebooks/v2/259342ab-60e8-45d9-95e0-9d31f51595e0/view?access_token=6371da9b733ca9ffe8bd8e5259b3b56b0297b905330fec365a347952f82d8730"
        },
        {
            "cell_type": "code",
            "execution_count": null,
            "metadata": {},
            "outputs": [],
            "source": ""
        }
    ],
    "metadata": {
        "kernelspec": {
            "display_name": "Python 3.9",
            "language": "python",
            "name": "python3"
        },
        "language_info": {
            "codemirror_mode": {
                "name": "ipython",
                "version": 3
            },
            "file_extension": ".py",
            "mimetype": "text/x-python",
            "name": "python",
            "nbconvert_exporter": "python",
            "pygments_lexer": "ipython3",
            "version": "3.9.12"
        }
    },
    "nbformat": 4,
    "nbformat_minor": 1
}